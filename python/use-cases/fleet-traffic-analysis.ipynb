{
 "cells": [
  {
   "cell_type": "markdown",
   "id": "5592c9eb-57ec-468a-9ca4-1a23c7c3249f",
   "metadata": {},
   "source": [
    "# Traffic analysis for fleet, trucks and equipment\n",
    "\n",
    "A transportation / taxi company has collected massive historical traffic data and wants to find traffic patterns, predict congestions, and suggest optimized routes for its own vehicles.\n",
    "\n",
    "To this end, we can join traffic records with points of interest or geographic zones to identify the hot spots and congestion points.\n",
    "\n",
    "We recommend to use a Sedona cluster with 40+ CPU cores and 100GB+ RAM for running this notebook. "
   ]
  },
  {
   "cell_type": "markdown",
   "id": "d49dfb70-694f-4a29-8cca-faf87326b900",
   "metadata": {},
   "source": [
    "## Import necessary dependencies"
   ]
  },
  {
   "cell_type": "code",
   "execution_count": 1,
   "id": "4f4f1c4e-d69d-4c69-87dd-78f5eb5ec13a",
   "metadata": {},
   "outputs": [],
   "source": [
    "from pyspark.sql import SparkSession\n",
    "from pyspark.sql.functions import expr, col, lit, concat, aggregate, size, count, desc, struct, avg, year, month, dayofmonth\n",
    "\n",
    "from sedona.spark import *\n",
    "from IPython.display import display, HTML\n",
    "import json"
   ]
  },
  {
   "cell_type": "markdown",
   "id": "7c85b3df-0f01-4532-8ab6-26beb3f64fca",
   "metadata": {},
   "source": [
    "## Create SedonaContext\n"
   ]
  },
  {
   "cell_type": "code",
   "execution_count": 2,
   "id": "9d92dc94-0c5b-4df8-b38a-257ab84f1f79",
   "metadata": {},
   "outputs": [
    {
     "name": "stderr",
     "output_type": "stream",
     "text": [
      "Warning: Ignoring non-Spark config property: fs.s3a.aws.credentials.provider\n",
      "Warning: Ignoring non-Spark config property: sedona.global.indextype\n",
      "23/10/22 09:04:04 WARN NativeCodeLoader: Unable to load native-hadoop library for your platform... using builtin-java classes where applicable\n",
      "Setting default log level to \"WARN\".\n",
      "To adjust logging level use sc.setLogLevel(newLevel). For SparkR, use setLogLevel(newLevel).\n",
      "23/10/22 09:04:06 WARN MetricsConfig: Cannot locate configuration: tried hadoop-metrics2-s3a-file-system.properties,hadoop-metrics2.properties\n",
      "23/10/22 09:04:07 WARN S3ABlockOutputStream: Application invoked the Syncable API against stream writing to pvoaenkhn3/spark-logs/spark-b3540f6251524196a67cfb23b21212ce.inprogress. This is unsupported\n",
      "                                                                                \r"
     ]
    }
   ],
   "source": [
    "builder = SedonaContext.builder().\\\n",
    "    config(\"spark.driver.maxResultSize\", \"10g\"). \\\n",
    "    config(\"sedona.global.indextype\", \"rtree\"). \\\n",
    "    config(\"spark.wherobots.raster.outdb.readahead\", \"4m\")\n",
    "\n",
    "sedona = SedonaContext.create(builder.getOrCreate())"
   ]
  },
  {
   "cell_type": "markdown",
   "id": "deb97efb-417f-41d5-8f22-aaeecf4cd975",
   "metadata": {},
   "source": [
    "## Explore the Wherobots open data catalog\n",
    "\n",
    "The following commands show the `wherobots_pro_data` catalog of Wherobots open data. This will print the databases and tables inside this catalog."
   ]
  },
  {
   "cell_type": "code",
   "execution_count": 3,
   "id": "ba53883e-8bf2-49ff-8526-f4aeb5ebbeaf",
   "metadata": {},
   "outputs": [
    {
     "name": "stdout",
     "output_type": "stream",
     "text": [
      "+----------------+\n",
      "|       namespace|\n",
      "+----------------+\n",
      "|google_microsoft|\n",
      "|         landsat|\n",
      "|        nyc_taxi|\n",
      "|             osm|\n",
      "|       us_census|\n",
      "|         weather|\n",
      "+----------------+\n",
      "\n"
     ]
    },
    {
     "name": "stderr",
     "output_type": "stream",
     "text": [
      "                                                                                \r"
     ]
    },
    {
     "name": "stdout",
     "output_type": "stream",
     "text": [
      "+----------------+--------------+-----------+\n",
      "|       namespace|     tableName|isTemporary|\n",
      "+----------------+--------------+-----------+\n",
      "|google_microsoft|open_buildings|      false|\n",
      "+----------------+--------------+-----------+\n",
      "\n"
     ]
    },
    {
     "name": "stderr",
     "output_type": "stream",
     "text": [
      "                                                                                \r"
     ]
    },
    {
     "name": "stdout",
     "output_type": "stream",
     "text": [
      "+---------+---------+-----------+\n",
      "|namespace|tableName|isTemporary|\n",
      "+---------+---------+-----------+\n",
      "|us_census|  zipcode|      false|\n",
      "+---------+---------+-----------+\n",
      "\n",
      "+---------+----------------+-----------+\n",
      "|namespace|       tableName|isTemporary|\n",
      "+---------+----------------+-----------+\n",
      "| nyc_taxi|yellow_2009_2010|      false|\n",
      "+---------+----------------+-----------+\n",
      "\n"
     ]
    }
   ],
   "source": [
    "sedona.sql(\"SHOW SCHEMAS IN wherobots_pro_data\").show()\n",
    "sedona.sql(\"SHOW TABLES IN wherobots_pro_data.google_microsoft\").show()\n",
    "sedona.sql(\"SHOW TABLES IN wherobots_pro_data.us_census\").show()\n",
    "sedona.sql(\"SHOW TABLES IN wherobots_pro_data.nyc_taxi\").show()"
   ]
  },
  {
   "cell_type": "markdown",
   "id": "3b1a8925-95fd-495c-8302-6d9caf4d5fe5",
   "metadata": {},
   "source": [
    "## Understand Table open_buildings\n",
    "\n",
    "The dataset integrates Google's V3 Open Buildings with the newest Building Footprints from Microsoft. Wherobots takes this combined dataset from VIDA and converts it to Havasu format with spatial index. This dataset contains over 2.5 billion building footprints.\n",
    "\n",
    "For demo purpose, we only take the Microsoft-version building footprints in New York City.\n",
    "\n",
    "Its schema and count are as follows.\n",
    "\n",
    "Then we use SedonaKepler to visualize a sample of the data to understand its data distribution."
   ]
  },
  {
   "cell_type": "code",
   "execution_count": 4,
   "id": "cdeff813-f9d3-432d-bcc5-d4e646059154",
   "metadata": {},
   "outputs": [
    {
     "name": "stderr",
     "output_type": "stream",
     "text": [
      "SLF4J: Failed to load class \"org.slf4j.impl.StaticLoggerBinder\".\n",
      "SLF4J: Defaulting to no-operation (NOP) logger implementation\n",
      "SLF4J: See http://www.slf4j.org/codes.html#StaticLoggerBinder for further details.\n"
     ]
    },
    {
     "name": "stdout",
     "output_type": "stream",
     "text": [
      "root\n",
      " |-- geometry: geometry (nullable = true)\n",
      " |-- boundary_id: long (nullable = true)\n",
      " |-- bf_source: string (nullable = true)\n",
      " |-- confidence: double (nullable = true)\n",
      " |-- area_in_meters: double (nullable = true)\n",
      " |-- country_iso: string (nullable = true)\n",
      "\n"
     ]
    },
    {
     "name": "stderr",
     "output_type": "stream",
     "text": [
      "                                                                                \r"
     ]
    },
    {
     "name": "stdout",
     "output_type": "stream",
     "text": [
      "+--------------------+-----------+---------+----------+------------------+-----------+\n",
      "|            geometry|boundary_id|bf_source|confidence|    area_in_meters|country_iso|\n",
      "+--------------------+-----------+---------+----------+------------------+-----------+\n",
      "|POLYGON ((29.0227...|        312|microsoft|      null| 73.11497087016033|        UKR|\n",
      "|POLYGON ((29.0240...|        312|microsoft|      null|103.20214841906869|        UKR|\n",
      "|POLYGON ((29.0147...|        312|microsoft|      null| 33.33722540112282|        UKR|\n",
      "|POLYGON ((29.0137...|        312|microsoft|      null|21.408372270656038|        UKR|\n",
      "|POLYGON ((29.0116...|        312|microsoft|      null| 55.15879787922788|        UKR|\n",
      "|POLYGON ((29.0148...|        312|microsoft|      null| 21.57436274439953|        UKR|\n",
      "|POLYGON ((29.0166...|        312|microsoft|      null|18.720202300347005|        UKR|\n",
      "|POLYGON ((29.0078...|        312|microsoft|      null| 45.98465251154108|        UKR|\n",
      "|POLYGON ((29.0208...|        312|microsoft|      null| 30.22581047630368|        UKR|\n",
      "|POLYGON ((29.0058...|        312|microsoft|      null|112.34850887367946|        UKR|\n",
      "|POLYGON ((29.0201...|        312|microsoft|      null|16.744456521315268|        UKR|\n",
      "|POLYGON ((29.0094...|        312|microsoft|      null| 58.44589641321266|        UKR|\n",
      "|POLYGON ((29.0152...|        312|microsoft|      null| 38.68301787828019|        UKR|\n",
      "|POLYGON ((29.0216...|        312|microsoft|      null| 80.54320888718577|        UKR|\n",
      "|POLYGON ((29.0262...|        312|microsoft|      null| 32.10294359156968|        UKR|\n",
      "|POLYGON ((29.0072...|        312|microsoft|      null|  94.5507311539068|        UKR|\n",
      "|POLYGON ((29.0180...|        312|microsoft|      null|244.62321734167003|        UKR|\n",
      "|POLYGON ((29.0071...|        312|microsoft|      null| 32.67817457348867|        UKR|\n",
      "|POLYGON ((29.0286...|        312|microsoft|      null|14.000996724991184|        UKR|\n",
      "|POLYGON ((29.0219...|        312|microsoft|      null| 692.7750359743142|        UKR|\n",
      "+--------------------+-----------+---------+----------+------------------+-----------+\n",
      "only showing top 20 rows\n",
      "\n"
     ]
    },
    {
     "name": "stderr",
     "output_type": "stream",
     "text": [
      "                                                                                \r"
     ]
    },
    {
     "name": "stdout",
     "output_type": "stream",
     "text": [
      "NYC buildings count:  980808\n",
      "User Guide: https://docs.kepler.gl/docs/keplergl-jupyter\n"
     ]
    },
    {
     "name": "stderr",
     "output_type": "stream",
     "text": [
      "/opt/conda/lib/python3.10/site-packages/jupyter_client/session.py:719: UserWarning: Message serialization failed with:\n",
      "Out of range float values are not JSON compliant\n",
      "Supporting this message is deprecated in jupyter-client 7, please make sure your message is JSON-compliant\n",
      "  content = self.pack(content)\n"
     ]
    },
    {
     "data": {
      "application/vnd.jupyter.widget-view+json": {
       "model_id": "554529df40db4135ae67aaeab1ede54e",
       "version_major": 2,
       "version_minor": 0
      },
      "text/plain": [
       "KeplerGl(data={'buildings': {'index': [0, 1, 2, 3, 4, 5, 6, 7, 8, 9, 10, 11, 12, 13, 14, 15, 16, 17, 18, 19, 2…"
      ]
     },
     "metadata": {},
     "output_type": "display_data"
    }
   ],
   "source": [
    "buildings = sedona.table(\"wherobots_pro_data.google_microsoft.open_buildings\")\n",
    "buildings.printSchema()\n",
    "buildings.show()\n",
    "buildings = buildings.filter(\"ST_Intersects(ST_PolygonFromEnvelope(-74.2591, 40.4774, -73.7004, 40.9176), geometry)\").filter(\"bf_source = 'microsoft'\").repartition(400)\n",
    "print(\"NYC buildings count: \", buildings.count())\n",
    "buildings.createOrReplaceTempView(\"buildings_nyc\")\n",
    "SedonaKepler.create_map(buildings.sample(0.1), \"buildings\")"
   ]
  },
  {
   "cell_type": "markdown",
   "id": "470fb374-f367-48e3-8beb-44d8b3c85f83",
   "metadata": {},
   "source": [
    "## Understand Table yellow_2009_2010\n",
    "\n",
    "Trip records from yellow taxis were gathered and supplied to the NYC Taxi and Limousine Commission (TLC). These records detail pick-up and drop-off times, locations, journey lengths, fare breakdowns, rate categories, modes of payment, and the number of passengers as reported by drivers.\n",
    "\n",
    "We only use data from Year 2009 and 2010 as new data provided NYC TLC no longer includes exact geospatial locations.\n",
    "\n",
    "Its schema and count are as follows.\n",
    "\n",
    "Then we use SedonaKepler to visualize a sample of the data to understand its data distribution."
   ]
  },
  {
   "cell_type": "code",
   "execution_count": 5,
   "id": "bbc04f61-b8e4-4d5b-854c-3e293e0b3140",
   "metadata": {
    "tags": []
   },
   "outputs": [
    {
     "name": "stdout",
     "output_type": "stream",
     "text": [
      "root\n",
      " |-- vendor_id: string (nullable = true)\n",
      " |-- pickup_datetime: string (nullable = true)\n",
      " |-- dropoff_datetime: string (nullable = true)\n",
      " |-- passenger_count: long (nullable = true)\n",
      " |-- trip_distance: double (nullable = true)\n",
      " |-- pickup_longitude: double (nullable = true)\n",
      " |-- pickup_latitude: double (nullable = true)\n",
      " |-- pickup_location: geometry (nullable = true)\n",
      " |-- rate_code: string (nullable = true)\n",
      " |-- store_and_fwd_flag: string (nullable = true)\n",
      " |-- dropoff_longitude: double (nullable = true)\n",
      " |-- dropoff_latitude: double (nullable = true)\n",
      " |-- dropoff_location: geometry (nullable = true)\n",
      " |-- payment_type: string (nullable = true)\n",
      " |-- fare_amount: double (nullable = true)\n",
      " |-- surcharge: double (nullable = true)\n",
      " |-- mta_tax: double (nullable = true)\n",
      " |-- tip_amount: double (nullable = true)\n",
      " |-- tolls_amount: double (nullable = true)\n",
      " |-- total_amount: double (nullable = true)\n",
      "\n"
     ]
    },
    {
     "name": "stderr",
     "output_type": "stream",
     "text": [
      "                                                                                \r"
     ]
    },
    {
     "name": "stdout",
     "output_type": "stream",
     "text": [
      "Taxi records count:  182852811\n",
      "User Guide: https://docs.kepler.gl/docs/keplergl-jupyter\n"
     ]
    },
    {
     "name": "stderr",
     "output_type": "stream",
     "text": [
      "                                                                                \r"
     ]
    },
    {
     "data": {
      "application/vnd.jupyter.widget-view+json": {
       "model_id": "b58325f03f49427cb152cdbb371f977f",
       "version_major": 2,
       "version_minor": 0
      },
      "text/plain": [
       "KeplerGl(data={'taxis': {'index': [0, 1, 2, 3, 4, 5, 6, 7, 8, 9, 10, 11, 12, 13, 14, 15, 16, 17, 18, 19, 20, 2…"
      ]
     },
     "metadata": {},
     "output_type": "display_data"
    }
   ],
   "source": [
    "taxis = sedona.table(\"wherobots_pro_data.nyc_taxi.yellow_2009_2010\")\n",
    "taxis.printSchema()\n",
    "# Remove outlier data\n",
    "taxis = taxis.filter(\"ST_Intersects(ST_PolygonFromEnvelope(-74.2591, 40.4774, -73.7004, 40.9176), pickup_location)\").filter(\"ST_Intersects(ST_PolygonFromEnvelope(-74.2591, 40.4774, -73.7004, 40.9176), dropoff_location)\")\n",
    "print(\"Taxi records count: \", taxis.count())\n",
    "taxis.createOrReplaceTempView(\"taxis\")\n",
    "SedonaKepler.create_map(taxis.selectExpr(\"pickup_location\", \"passenger_count\", \"vendor_id\").sample(0.001), \"taxis\")"
   ]
  },
  {
   "cell_type": "markdown",
   "id": "1ddcb77c-7aa6-496c-b5ae-e254581d0eaf",
   "metadata": {},
   "source": [
    "## Understand Table zipcode (ZCTA)\n",
    "\n",
    "ZCTAs, short for ZIP Code Tabulation Areas represent a geographical entity developed by the U.S. Census Bureau. Their purpose is to facilitate visualization, mapping, and spatial analysis of the dataset associated with the USPS's Zone Improvement Plan, commonly known as ZIP Codes.\n",
    "\n",
    "Its schema and count are as follows.\n",
    "\n",
    "Then we use SedonaKepler to visualize a sample of the data to understand its data distribution."
   ]
  },
  {
   "cell_type": "code",
   "execution_count": 6,
   "id": "255befe3-fbdf-4510-8162-c5ff407bb950",
   "metadata": {},
   "outputs": [
    {
     "name": "stdout",
     "output_type": "stream",
     "text": [
      "root\n",
      " |-- geometry: geometry (nullable = true)\n",
      " |-- ZCTA5CE10: string (nullable = true)\n",
      " |-- GEOID10: string (nullable = true)\n",
      " |-- CLASSFP10: string (nullable = true)\n",
      " |-- MTFCC10: string (nullable = true)\n",
      " |-- FUNCSTAT10: string (nullable = true)\n",
      " |-- ALAND10: decimal(14,0) (nullable = true)\n",
      " |-- AWATER10: decimal(14,0) (nullable = true)\n",
      " |-- INTPTLAT10: string (nullable = true)\n",
      " |-- INTPTLON10: string (nullable = true)\n",
      "\n"
     ]
    },
    {
     "name": "stderr",
     "output_type": "stream",
     "text": [
      "                                                                                \r"
     ]
    },
    {
     "name": "stdout",
     "output_type": "stream",
     "text": [
      "Zip codes count:  349\n",
      "User Guide: https://docs.kepler.gl/docs/keplergl-jupyter\n"
     ]
    },
    {
     "name": "stderr",
     "output_type": "stream",
     "text": [
      "                                                                                \r"
     ]
    },
    {
     "data": {
      "application/vnd.jupyter.widget-view+json": {
       "model_id": "52f7e4f79e5e42e982ebe83ceaceb774",
       "version_major": 2,
       "version_minor": 0
      },
      "text/plain": [
       "KeplerGl(data={'zones': {'index': [0, 1, 2, 3, 4, 5, 6, 7, 8, 9, 10, 11, 12, 13, 14, 15, 16, 17, 18, 19, 20, 2…"
      ]
     },
     "metadata": {},
     "output_type": "display_data"
    }
   ],
   "source": [
    "zipcodes = sedona.table(\"wherobots_pro_data.us_census.zipcode\")\n",
    "zipcodes.printSchema()\n",
    "# Only keep zones in NYC\n",
    "zipcodes = zipcodes.filter(\"ST_Intersects(ST_PolygonFromEnvelope(-74.2591, 40.4774, -73.7004, 40.9176), geometry)\")\n",
    "print(\"Zip codes count: \" , zipcodes.count())\n",
    "zipcodes.createOrReplaceTempView(\"zones_nyc\")\n",
    "SedonaKepler.create_map(zipcodes.selectExpr(\"geometry\", \"ZCTA5CE10\"), \"zones\")"
   ]
  },
  {
   "cell_type": "markdown",
   "id": "658ab3d6-5e69-4ce5-9117-67f747e23884",
   "metadata": {},
   "source": [
    "## Find the most popular zones for taxi pickups\n",
    "\n",
    "This requires 2 steps:\n",
    "\n",
    "1. Perform a spatial join between Table zipcode and Table yellow_2009_2010 to find taxi pickup locations in each zone.\n",
    "2. Perform an aggregation query on the join result to count the number of pickup locations per zones, and sort the result descendingly.\n",
    "\n",
    "One observation is that Manhattan region is the most popular area in the New York City."
   ]
  },
  {
   "cell_type": "code",
   "execution_count": 7,
   "id": "3f0cca34-916b-4d54-a553-92785df7c73d",
   "metadata": {},
   "outputs": [
    {
     "name": "stderr",
     "output_type": "stream",
     "text": [
      "                                                                                \r"
     ]
    },
    {
     "name": "stdout",
     "output_type": "stream",
     "text": [
      "+-------+--------------------+--------+\n",
      "|zipcode|             zipgeom|   count|\n",
      "+-------+--------------------+--------+\n",
      "|  10019|POLYGON ((-74.003...|12130600|\n",
      "|  10003|POLYGON ((-73.999...|10628842|\n",
      "|  10022|POLYGON ((-73.977...|10185182|\n",
      "|  10016|POLYGON ((-73.987...| 9727619|\n",
      "|  10011|POLYGON ((-74.012...| 9494464|\n",
      "|  10036|POLYGON ((-74.001...| 8843262|\n",
      "|  10001|POLYGON ((-74.008...| 8538118|\n",
      "|  10017|POLYGON ((-73.981...| 6952021|\n",
      "|  10023|POLYGON ((-73.990...| 6918065|\n",
      "|  10014|POLYGON ((-74.015...| 6587465|\n",
      "|  10021|MULTIPOLYGON (((-...| 6157016|\n",
      "|  10065|POLYGON ((-73.972...| 6001119|\n",
      "|  10012|POLYGON ((-74.004...| 5537702|\n",
      "|  10010|POLYGON ((-73.993...| 5499812|\n",
      "|  10024|POLYGON ((-73.988...| 5185363|\n",
      "|  10128|MULTIPOLYGON (((-...| 5182653|\n",
      "|  10028|POLYGON ((-73.963...| 4731805|\n",
      "|  10013|POLYGON ((-74.016...| 4637368|\n",
      "|  10025|POLYGON ((-73.977...| 4035095|\n",
      "|  10018|POLYGON ((-74.006...| 3968276|\n",
      "+-------+--------------------+--------+\n",
      "only showing top 20 rows\n",
      "\n",
      "User Guide: https://docs.kepler.gl/docs/keplergl-jupyter\n"
     ]
    },
    {
     "data": {
      "application/vnd.jupyter.widget-view+json": {
       "model_id": "9c6ae8e2edce42219dc995a1c11bdd9f",
       "version_major": 2,
       "version_minor": 0
      },
      "text/plain": [
       "KeplerGl(config={'version': 'v1', 'config': {'visState': {'filters': [], 'layers': [{'id': '292htir', 'type': …"
      ]
     },
     "metadata": {},
     "output_type": "display_data"
    }
   ],
   "source": [
    "pickup_zone = sedona.sql(\n",
    "    \"\"\"\n",
    "    SELECT \n",
    "        z.geometry as zipgeom, \n",
    "        z.ZCTA5CE10 as zipcode, \n",
    "        t.total_amount \n",
    "    FROM \n",
    "        zones_nyc z, \n",
    "        taxis t \n",
    "    WHERE \n",
    "        ST_Intersects(z.geometry, t.pickup_location) \n",
    "    \"\"\"\n",
    ")\n",
    "pickup_zone = pickup_zone.groupBy(\"zipcode\", \"zipgeom\").agg(count(\"*\").alias(\"count\")).orderBy(desc(\"count\"))\n",
    "pickup_zone = pickup_zone.cache()\n",
    "pickup_zone.show()\n",
    "\n",
    "# Provide a config file that can produce heatmap directly. You can also manually config a heap map via the KeplerGL panel\n",
    "map_config = json.loads('{\"version\": \"v1\", \"config\": {\"visState\": {\"filters\": [], \"layers\": [{\"id\": \"292htir\", \"type\": \"geojson\", \"config\": {\"dataId\": \"pickup_zone\", \"label\": \"pickup_zone\", \"color\": [246, 209, 138], \"highlightColor\": [252, 242, 26, 255], \"columns\": {\"geojson\": \"geometry\"}, \"isVisible\": true, \"visConfig\": {\"opacity\": 0.8, \"strokeOpacity\": 0.8, \"thickness\": 0.5, \"strokeColor\": [183, 136, 94], \"colorRange\": {\"name\": \"Global Warming\", \"type\": \"sequential\", \"category\": \"Uber\", \"colors\": [\"#5A1846\", \"#900C3F\", \"#C70039\", \"#E3611C\", \"#F1920E\", \"#FFC300\"]}, \"strokeColorRange\": {\"name\": \"Global Warming\", \"type\": \"sequential\", \"category\": \"Uber\", \"colors\": [\"#5A1846\", \"#900C3F\", \"#C70039\", \"#E3611C\", \"#F1920E\", \"#FFC300\"]}, \"radius\": 10, \"sizeRange\": [0, 10], \"radiusRange\": [0, 50], \"heightRange\": [0, 500], \"elevationScale\": 5, \"enableElevationZoomFactor\": true, \"stroked\": true, \"filled\": true, \"enable3d\": false, \"wireframe\": false}, \"hidden\": false, \"textLabel\": [{\"field\": null, \"color\": [255, 255, 255], \"size\": 18, \"offset\": [0, 0], \"anchor\": \"start\", \"alignment\": \"center\"}]}, \"visualChannels\": {\"colorField\": {\"name\": \"count\", \"type\": \"integer\"}, \"colorScale\": \"quantile\", \"strokeColorField\": null, \"strokeColorScale\": \"quantile\", \"sizeField\": null, \"sizeScale\": \"linear\", \"heightField\": null, \"heightScale\": \"linear\", \"radiusField\": null, \"radiusScale\": \"linear\"}}], \"interactionConfig\": {\"tooltip\": {\"fieldsToShow\": {\"pickup_zone\": [{\"name\": \"zipcode\", \"format\": null}, {\"name\": \"count\", \"format\": null}]}, \"compareMode\": false, \"compareType\": \"absolute\", \"enabled\": true}, \"brush\": {\"size\": 0.5, \"enabled\": false}, \"geocoder\": {\"enabled\": false}, \"coordinate\": {\"enabled\": false}}, \"layerBlending\": \"normal\", \"splitMaps\": [], \"animationConfig\": {\"currentTime\": null, \"speed\": 1}}, \"mapState\": {\"bearing\": 0, \"dragRotate\": false, \"latitude\": 40.754194999999996, \"longitude\": -73.963679, \"pitch\": 0, \"zoom\": 9, \"isSplit\": false}, \"mapStyle\": {\"styleType\": \"dark\", \"topLayerGroups\": {}, \"visibleLayerGroups\": {\"label\": true, \"road\": true, \"border\": false, \"building\": true, \"water\": true, \"land\": true, \"3d building\": false}, \"threeDBuildingColor\": [9.665468314072013, 17.18305478057247, 31.1442867897876], \"mapStyles\": {}}}}')\n",
    "SedonaKepler.create_map(pickup_zone, \"pickup_zone\", config = map_config)"
   ]
  },
  {
   "cell_type": "markdown",
   "id": "79d17ab6-84ee-4dda-af1f-fe31f25f8118",
   "metadata": {
    "tags": []
   },
   "source": [
    "## Find the most expensive zones for taxi\n",
    "\n",
    "We want to find the average trip fare for taxis picked up in each zone. This might help policy makers design taxi pricing models.\n",
    "\n",
    "This requires 2 steps:\n",
    "\n",
    "1. Perform a spatial join between Table zipcode and Table yellow_2009_2010 to find taxi pickup locations in each zone.\n",
    "2. Perform an aggregation query on the join result to average the trip fare of trip records per zones, and sort the result descendingly.\n",
    "\n",
    "One observation is that people in Manhattan region usually do short-distance trip while people from airports usually pay more."
   ]
  },
  {
   "cell_type": "code",
   "execution_count": 8,
   "id": "7dc9fb47-87b2-42fa-96a9-27c622a7f1f1",
   "metadata": {},
   "outputs": [
    {
     "name": "stderr",
     "output_type": "stream",
     "text": [
      "                                                                                \r"
     ]
    },
    {
     "name": "stdout",
     "output_type": "stream",
     "text": [
      "+-------+--------------------+------------------+\n",
      "|zipcode|             zipgeom|              fare|\n",
      "+-------+--------------------+------------------+\n",
      "|  10538|POLYGON ((-73.772...| 65.88181818181818|\n",
      "|  07114|POLYGON ((-74.212...| 60.27721553466339|\n",
      "|  07470|POLYGON ((-74.289...| 59.79456692913387|\n",
      "|  10801|POLYGON ((-73.805...|57.352236135957085|\n",
      "|  07102|POLYGON ((-74.185...|56.864615384615355|\n",
      "|  07043|POLYGON ((-74.218...| 54.51392344497612|\n",
      "|  07311|POLYGON ((-74.034...| 47.79757451181915|\n",
      "|  07201|POLYGON ((-74.217...| 47.01816506567343|\n",
      "|  11561|POLYGON ((-73.706...| 46.60166666666667|\n",
      "|  11557|POLYGON ((-73.714...| 46.10167832167832|\n",
      "|  07079|POLYGON ((-74.283...|41.892181818181825|\n",
      "|  11042|POLYGON ((-73.712...| 40.95830769230769|\n",
      "|  11430|POLYGON ((-73.832...| 40.57335020023982|\n",
      "|  11030|POLYGON ((-73.712...| 39.72695804195804|\n",
      "|  11436|POLYGON ((-73.805...|39.668798383384896|\n",
      "|  07505|MULTIPOLYGON (((-...|39.285714285714285|\n",
      "|  10805|MULTIPOLYGON (((-...| 38.70259398496241|\n",
      "|  07608|POLYGON ((-74.073...| 35.94876588021779|\n",
      "|  10552|POLYGON ((-73.844...| 35.93260869565217|\n",
      "|  07513|POLYGON ((-74.158...| 35.55138888888889|\n",
      "+-------+--------------------+------------------+\n",
      "only showing top 20 rows\n",
      "\n",
      "User Guide: https://docs.kepler.gl/docs/keplergl-jupyter\n"
     ]
    },
    {
     "data": {
      "application/vnd.jupyter.widget-view+json": {
       "model_id": "8fc5f0a34972441881f1712fb23db54d",
       "version_major": 2,
       "version_minor": 0
      },
      "text/plain": [
       "KeplerGl(config={'version': 'v1', 'config': {'visState': {'filters': [], 'layers': [{'id': 'g5xd43b', 'type': …"
      ]
     },
     "metadata": {},
     "output_type": "display_data"
    }
   ],
   "source": [
    "fare_zone = sedona.sql(\n",
    "    \"\"\"\n",
    "    SELECT \n",
    "        z.geometry as zipgeom, \n",
    "        z.ZCTA5CE10 as zipcode, \n",
    "        t.total_amount \n",
    "    FROM \n",
    "        zones_nyc z, \n",
    "        taxis t \n",
    "    WHERE \n",
    "        ST_Intersects(z.geometry, t.pickup_location) \n",
    "    \"\"\"\n",
    ")\n",
    "fare_zone = fare_zone.groupBy(\"zipcode\", \"zipgeom\").agg(avg(\"total_amount\").alias(\"fare\")).orderBy(desc(\"fare\"))\n",
    "fare_zone = fare_zone.cache()\n",
    "fare_zone.show()\n",
    "\n",
    "# Provide a config file that can produce heatmap directly. You can also manually config a heap map via the KeplerGL panel\n",
    "map_config = json.loads('{\"version\": \"v1\", \"config\": {\"visState\": {\"filters\": [], \"layers\": [{\"id\": \"g5xd43b\", \"type\": \"geojson\", \"config\": {\"dataId\": \"fare_zone\", \"label\": \"fare_zone\", \"color\": [30, 150, 190], \"highlightColor\": [252, 242, 26, 255], \"columns\": {\"geojson\": \"geometry\"}, \"isVisible\": true, \"visConfig\": {\"opacity\": 0.8, \"strokeOpacity\": 0.8, \"thickness\": 0.5, \"strokeColor\": [137, 218, 193], \"colorRange\": {\"name\": \"Global Warming\", \"type\": \"sequential\", \"category\": \"Uber\", \"colors\": [\"#5A1846\", \"#900C3F\", \"#C70039\", \"#E3611C\", \"#F1920E\", \"#FFC300\"]}, \"strokeColorRange\": {\"name\": \"Global Warming\", \"type\": \"sequential\", \"category\": \"Uber\", \"colors\": [\"#5A1846\", \"#900C3F\", \"#C70039\", \"#E3611C\", \"#F1920E\", \"#FFC300\"]}, \"radius\": 10, \"sizeRange\": [0, 10], \"radiusRange\": [0, 50], \"heightRange\": [0, 500], \"elevationScale\": 5, \"enableElevationZoomFactor\": true, \"stroked\": true, \"filled\": true, \"enable3d\": false, \"wireframe\": false}, \"hidden\": false, \"textLabel\": [{\"field\": null, \"color\": [255, 255, 255], \"size\": 18, \"offset\": [0, 0], \"anchor\": \"start\", \"alignment\": \"center\"}]}, \"visualChannels\": {\"colorField\": {\"name\": \"fare\", \"type\": \"real\"}, \"colorScale\": \"quantile\", \"strokeColorField\": null, \"strokeColorScale\": \"quantile\", \"sizeField\": null, \"sizeScale\": \"linear\", \"heightField\": null, \"heightScale\": \"linear\", \"radiusField\": null, \"radiusScale\": \"linear\"}}], \"interactionConfig\": {\"tooltip\": {\"fieldsToShow\": {\"fare_zone\": [{\"name\": \"zipcode\", \"format\": null}, {\"name\": \"fare\", \"format\": null}]}, \"compareMode\": false, \"compareType\": \"absolute\", \"enabled\": true}, \"brush\": {\"size\": 0.5, \"enabled\": false}, \"geocoder\": {\"enabled\": false}, \"coordinate\": {\"enabled\": false}}, \"layerBlending\": \"normal\", \"splitMaps\": [], \"animationConfig\": {\"currentTime\": null, \"speed\": 1}}, \"mapState\": {\"bearing\": 0, \"dragRotate\": false, \"latitude\": 40.754194999999996, \"longitude\": -73.963679, \"pitch\": 0, \"zoom\": 9, \"isSplit\": false}, \"mapStyle\": {\"styleType\": \"dark\", \"topLayerGroups\": {}, \"visibleLayerGroups\": {\"label\": true, \"road\": true, \"border\": false, \"building\": true, \"water\": true, \"land\": true, \"3d building\": false}, \"threeDBuildingColor\": [9.665468314072013, 17.18305478057247, 31.1442867897876], \"mapStyles\": {}}}}')\n",
    "fare_zone_map = SedonaKepler.create_map(fare_zone, \"fare_zone\", config = map_config)\n",
    "fare_zone_map"
   ]
  },
  {
   "cell_type": "markdown",
   "id": "338f13fc-66eb-4dbf-ab22-41d2cc8df0d8",
   "metadata": {
    "tags": []
   },
   "source": [
    "## Find the busiest buildings in New York City\n",
    "\n",
    "We want to know which buildings lead to lots of taxi pickups and their surrounding areas might be congestion points.\n",
    "\n",
    "This requires 2 steps:\n",
    "\n",
    "1. Perform a distance join between Table open_buildings and Table yellow_2009_2010 to find taxis picked up within 100 meter distance of each building.\n",
    "2. Perform an aggregation query on the join result to count the pick up records per building, and sort the result descendingly.\n",
    "\n",
    "One observation is that the busiest building is the one at the intersection of W 31st St and 7th Ave, which is Madison Square Garden, known as The Garden or in initials as MSG. It is a multi-purpose indoor arena in New York City. Located in Midtown Manhattan between 7th and 8th Avenues from 31st to 33rd Streets, it is situated atop Pennsylvania Station. People should avoid this congestion point when driving."
   ]
  },
  {
   "cell_type": "code",
   "execution_count": 9,
   "id": "c699c369-601f-4e74-b4ff-130ce3896982",
   "metadata": {},
   "outputs": [
    {
     "name": "stderr",
     "output_type": "stream",
     "text": [
      "23/10/22 09:06:55 WARN JoinQuery: UseIndex is true, but no index exists. Will build index on the fly.\n",
      "                                                                                \r"
     ]
    },
    {
     "name": "stdout",
     "output_type": "stream",
     "text": [
      "+-----------+--------------------+------+\n",
      "|boundary_id|        buildinggeom| count|\n",
      "+-----------+--------------------+------+\n",
      "|        116|POLYGON ((-73.992...|204201|\n",
      "|        116|POLYGON ((-73.992...|164735|\n",
      "|        116|POLYGON ((-73.991...|158489|\n",
      "|        116|POLYGON ((-74.005...|148474|\n",
      "|        116|POLYGON ((-73.987...|104894|\n",
      "|        116|POLYGON ((-74.015...|104150|\n",
      "|        116|POLYGON ((-74.007...|101665|\n",
      "|        116|POLYGON ((-74.007...| 85147|\n",
      "|        116|POLYGON ((-73.978...| 83453|\n",
      "|        116|POLYGON ((-74.002...| 83254|\n",
      "+-----------+--------------------+------+\n",
      "only showing top 10 rows\n",
      "\n",
      "User Guide: https://docs.kepler.gl/docs/keplergl-jupyter\n"
     ]
    },
    {
     "data": {
      "application/vnd.jupyter.widget-view+json": {
       "model_id": "1e8ff988e41b44be819bc54cceea8f01",
       "version_major": 2,
       "version_minor": 0
      },
      "text/plain": [
       "KeplerGl(data={'taxi_buildings': {'index': [0, 1, 2, 3, 4, 5, 6, 7, 8, 9], 'columns': ['boundary_id', 'geometr…"
      ]
     },
     "metadata": {},
     "output_type": "display_data"
    }
   ],
   "source": [
    "taxi_buildings = sedona.sql(\n",
    "    \"\"\"\n",
    "    SELECT\n",
    "        t.total_amount,\n",
    "        b.geometry as buildinggeom, \n",
    "        b.boundary_id as boundary_id\n",
    "    FROM \n",
    "        taxis t,\n",
    "        buildings_nyc b\n",
    "    WHERE \n",
    "        ST_DistanceSphere(t.pickup_location, b.geometry) <= 30\n",
    "    \"\"\"\n",
    ")\n",
    "taxi_buildings = taxi_buildings.groupBy(\"boundary_id\", \"buildinggeom\").agg(count(\"total_amount\").alias(\"count\")).orderBy(desc(\"count\"))\n",
    "taxi_buildings = taxi_buildings.cache()\n",
    "taxi_buildings.show(10)\n",
    "taxi_buildings_map = SedonaKepler.create_map(taxi_buildings.limit(10), \"taxi_buildings\")\n",
    "taxi_buildings_map"
   ]
  },
  {
   "cell_type": "code",
   "execution_count": null,
   "id": "2850a6b2-5405-4e93-9665-2e48a4cb71ba",
   "metadata": {},
   "outputs": [],
   "source": []
  }
 ],
 "metadata": {
  "kernelspec": {
   "display_name": "Python 3 (ipykernel)",
   "language": "python",
   "name": "python3"
  },
  "language_info": {
   "codemirror_mode": {
    "name": "ipython",
    "version": 3
   },
   "file_extension": ".py",
   "mimetype": "text/x-python",
   "name": "python",
   "nbconvert_exporter": "python",
   "pygments_lexer": "ipython3",
   "version": "3.10.11"
  }
 },
 "nbformat": 4,
 "nbformat_minor": 5
}
